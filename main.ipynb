{
 "cells": [
  {
   "cell_type": "code",
   "execution_count": 4,
   "id": "3f41a18a",
   "metadata": {},
   "outputs": [],
   "source": [
    "import pandas as pd\n",
    "import numpy as np"
   ]
  },
  {
   "cell_type": "code",
   "execution_count": 14,
   "id": "9fa1cd0d",
   "metadata": {},
   "outputs": [],
   "source": [
    "df = pd.read_excel('modelo_unithal.xlsx', index_col=0)"
   ]
  },
  {
   "cell_type": "code",
   "execution_count": 17,
   "id": "9747386b",
   "metadata": {},
   "outputs": [
    {
     "name": "stdout",
     "output_type": "stream",
     "text": [
      "relchi\n"
     ]
    }
   ],
   "source": [
    "a = \"relchi\""
   ]
  },
  {
   "cell_type": "code",
   "execution_count": 103,
   "id": "c76794e7",
   "metadata": {},
   "outputs": [
    {
     "name": "stdout",
     "output_type": "stream",
     "text": [
      "type your name: rodolpho da silva franzao\n",
      "r [0]\n",
      "o [1]\n",
      "d [2]\n",
      "o [3]\n",
      "l [4]\n",
      "p [5]\n",
      "h [6]\n",
      "o [7]\n",
      "  [8]\n",
      "d [9]\n",
      "a [10]\n",
      "  [11]\n",
      "s [12]\n",
      "i [13]\n",
      "l [14]\n",
      "v [15]\n",
      "a [16]\n",
      "  [17]\n",
      "f [18]\n",
      "r [19]\n",
      "a [20]\n",
      "n [21]\n",
      "z [22]\n",
      "a [23]\n",
      "o [24]\n"
     ]
    }
   ],
   "source": [
    "a = input(\"type your name: \")\n",
    "lista = []\n",
    "\n",
    "for i in range(0, len(a)):\n",
    "    print(a[i], end=f\" [{i}]\\n\")\n",
    "    \n"
   ]
  },
  {
   "cell_type": "code",
   "execution_count": null,
   "id": "6a02220d",
   "metadata": {},
   "outputs": [],
   "source": []
  }
 ],
 "metadata": {
  "kernelspec": {
   "display_name": "Python 3 (ipykernel)",
   "language": "python",
   "name": "python3"
  },
  "language_info": {
   "codemirror_mode": {
    "name": "ipython",
    "version": 3
   },
   "file_extension": ".py",
   "mimetype": "text/x-python",
   "name": "python",
   "nbconvert_exporter": "python",
   "pygments_lexer": "ipython3",
   "version": "3.9.13"
  }
 },
 "nbformat": 4,
 "nbformat_minor": 5
}
